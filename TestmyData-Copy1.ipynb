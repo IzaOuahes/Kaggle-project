{
 "cells": [
  {
   "cell_type": "code",
   "execution_count": 38,
   "metadata": {},
   "outputs": [
    {
     "name": "stdout",
     "output_type": "stream",
     "text": [
      "('number of users', 213451, 'user in the testset', 62096)\n",
      "('In total', 275547, 'users.')\n"
     ]
    }
   ],
   "source": [
    "import pandas as pd\n",
    "import matplotlib.pyplot as plt\n",
    "import seaborn as sns\n",
    "import numpy as np\n",
    "# Load the data into DataFrames\n",
    "train_users = pd.read_csv('train_users_2.csv',na_values=['-unknown-'])\n",
    "train_users['user_id'] = train_users['id']\n",
    "train_users = train_users.drop(['id', 'date_first_booking'], axis = 1)\n",
    "\n",
    "test_users = pd.read_csv('test_users.csv', na_values=['-unknown-'])\n",
    "test_users['user_id'] = test_users['id']\n",
    "test_users = test_users.drop(['id', 'date_first_booking'], axis = 1)\n",
    "\n",
    "\n",
    "print(\"number of users\", train_users.shape[0], \"user in the testset\", \n",
    "      test_users.shape[0])\n",
    "print(\"In total\", train_users.shape[0] + test_users.shape[0], \"users.\")"
   ]
  },
  {
   "cell_type": "markdown",
   "metadata": {},
   "source": [
    "# Merge train and test users"
   ]
  },
  {
   "cell_type": "code",
   "execution_count": 39,
   "metadata": {},
   "outputs": [
    {
     "name": "stdout",
     "output_type": "stream",
     "text": [
      "<class 'pandas.core.frame.DataFrame'>\n",
      "RangeIndex: 275547 entries, 0 to 275546\n",
      "Data columns (total 15 columns):\n",
      "affiliate_channel          275547 non-null object\n",
      "affiliate_provider         275547 non-null object\n",
      "age                        158681 non-null float64\n",
      "country_destination        213451 non-null object\n",
      "date_account_created       275547 non-null object\n",
      "first_affiliate_tracked    269462 non-null object\n",
      "first_browser              231153 non-null object\n",
      "first_device_type          275547 non-null object\n",
      "gender                     146067 non-null object\n",
      "language                   275546 non-null object\n",
      "signup_app                 275547 non-null object\n",
      "signup_flow                275547 non-null int64\n",
      "signup_method              275547 non-null object\n",
      "timestamp_first_active     275547 non-null int64\n",
      "user_id                    275547 non-null object\n",
      "dtypes: float64(1), int64(2), object(12)\n",
      "memory usage: 31.5+ MB\n"
     ]
    }
   ],
   "source": [
    "\n",
    "users = pd.concat((train_users, test_users), axis=0, ignore_index=True)\n",
    "users.info()\n"
   ]
  },
  {
   "cell_type": "markdown",
   "metadata": {},
   "source": [
    "# CLeaning data :\n",
    "\n",
    "fixing up format/filling in missing values/correcting erroneous values/standardizing categorical values"
   ]
  },
  {
   "cell_type": "code",
   "execution_count": 40,
   "metadata": {
    "collapsed": true
   },
   "outputs": [],
   "source": [
    "#fixing format date\n",
    "users['date_account_created'] = pd.to_datetime(users['date_account_created'], format='%Y-%m-%d')\n",
    "users['timestamp_first_active'] = pd.to_datetime(users['timestamp_first_active'], format='%Y%m%d%H%M%S')\n",
    "users['date_account_created'].fillna(users.timestamp_first_active, inplace=True)"
   ]
  },
  {
   "cell_type": "code",
   "execution_count": 41,
   "metadata": {
    "collapsed": true
   },
   "outputs": [],
   "source": [
    "users = users.set_index('user_id', drop = True)\n",
    "targets = users['country_destination']\n",
    "data = users.drop('country_destination', axis = 1)"
   ]
  },
  {
   "cell_type": "markdown",
   "metadata": {},
   "source": [
    "# Filling missing values"
   ]
  },
  {
   "cell_type": "code",
   "execution_count": 42,
   "metadata": {},
   "outputs": [
    {
     "data": {
      "text/plain": [
       "age                        42.412365\n",
       "first_affiliate_tracked     2.208335\n",
       "first_browser              16.111226\n",
       "gender                     46.990169\n",
       "language                    0.000363\n",
       "dtype: float64"
      ]
     },
     "execution_count": 42,
     "metadata": {},
     "output_type": "execute_result"
    }
   ],
   "source": [
    "#spot mssing values\n",
    "users_nan = (users.isnull().sum() / users.shape[0]) * 100\n",
    "users_nan[users_nan > 0].drop('country_destination')\n"
   ]
  },
  {
   "cell_type": "code",
   "execution_count": 43,
   "metadata": {},
   "outputs": [
    {
     "data": {
      "image/png": "[encoded data removed]",
      "text/plain": [
       "<matplotlib.figure.Figure at 0x10348b70>"
      ]
     },
     "metadata": {},
     "output_type": "display_data"
    }
   ],
   "source": [
    "sns.distplot(users.age.dropna(), color='#FD5C64')\n",
    "plt.xlabel('Age')\n",
    "sns.despine()\n",
    "plt.show()"
   ]
  },
  {
   "cell_type": "code",
   "execution_count": 44,
   "metadata": {},
   "outputs": [
    {
     "data": {
      "image/png": "[encoded data removed]",
      "text/plain": [
       "<matplotlib.figure.Figure at 0x18b4acc0>"
      ]
     },
     "metadata": {},
     "output_type": "display_data"
    },
    {
     "data": {
      "image/png": "[encoded data removed]",
      "text/plain": [
       "<matplotlib.figure.Figure at 0x186e9048>"
      ]
     },
     "metadata": {},
     "output_type": "display_data"
    }
   ],
   "source": [
    "bins = [-1, 20, 25, 30, 40, 50, 60, 75, 100]\n",
    "users['age_group'] = np.digitize(users['age'], bins, right=True)\n",
    "\n",
    "users.age_group.hist(bins=100)\n",
    "plt.title('Distribution of the age group')\n",
    "\n",
    "plt.show()\n",
    "\n",
    "users['age'].hist(bins=100)\n",
    "plt.axis([-2,100,0,120000])\n",
    "plt.title('Distribution of the Age')\n",
    "plt.show()\n"
   ]
  },
  {
   "cell_type": "code",
   "execution_count": 45,
   "metadata": {},
   "outputs": [
    {
     "data": {
      "text/plain": [
       "0"
      ]
     },
     "execution_count": 45,
     "metadata": {},
     "output_type": "execute_result"
    }
   ],
   "source": [
    "#fill the value with nan for age and correct erroneous values\n",
    "users['age'] = users['age'].apply(lambda x: 2015-x if (x >1905,x <2002) else x)\n",
    "\n",
    "users['age'] = users['age'].apply(lambda x: np.nan if x < 14 else x)\n",
    "users['age'] = users['age'].apply(lambda x: np.nan if x >=2002 else x)\n",
    "\n",
    "\n",
    "#recognize NaN value\n",
    "users['age'].fillna(-1, inplace=True)\n",
    "df = users[\"age\"]\n",
    "df.isnull().sum()"
   ]
  },
  {
   "cell_type": "code",
   "execution_count": 46,
   "metadata": {
    "collapsed": true
   },
   "outputs": [],
   "source": [
    "#first_affiliate_tracked\n",
    "\n",
    "sns.countplot(x=\"first_affiliate_tracked\", data=users, order=list(users.first_affiliate_tracked.value_counts().keys()))\n",
    "plt.xlabel('first_affiliate_tracked')\n",
    "plt.ylabel('Percentage')\n",
    "sns.despine()\n",
    "# Fill first_affiliate_tracked column\n",
    "users.first_affiliate_tracked.fillna('untracked', inplace = True)\n"
   ]
  },
  {
   "cell_type": "code",
   "execution_count": 47,
   "metadata": {},
   "outputs": [
    {
     "data": {
      "image/png": "[encoded data removed]",
      "text/plain": [
       "<matplotlib.figure.Figure at 0x182d2240>"
      ]
     },
     "metadata": {},
     "output_type": "display_data"
    }
   ],
   "source": [
    "users.language.hist(figsize = (16,8), bins = 100 )\n",
    "plt.show()\n",
    "# replacing the missing value in language by english \n",
    "users.language.fillna(value = 'en', inplace = True)"
   ]
  },
  {
   "cell_type": "code",
   "execution_count": 48,
   "metadata": {
    "collapsed": true
   },
   "outputs": [],
   "source": [
    "users['train'] = targets.notnull()*1\n",
    "col_obj = data.columns[data.dtypes == 'object']"
   ]
  },
  {
   "cell_type": "code",
   "execution_count": 49,
   "metadata": {
    "collapsed": true
   },
   "outputs": [],
   "source": [
    "for col in col_obj:\n",
    "    data = pd.get_dummies(data, columns=[col], prefix = col + '_')"
   ]
  },
  {
   "cell_type": "code",
   "execution_count": null,
   "metadata": {
    "collapsed": true
   },
   "outputs": [],
   "source": [
    "def transform_cyclical_data(x):\n",
    "    day = x.day\n",
    "    month = x.month\n",
    "    hour = x.time().hour*60+x.time().minute\n",
    "    hour_sin = np.sin(hour*2*np.pi/(24*60))\n",
    "    hour_cos = np.cos(hour*2*np.pi/(24*60))\n",
    "    month_cos = np.cos(month*2*np.pi/12)\n",
    "    month_sin = np.sin(month*2*np.pi/12)\n",
    "    week_day = x.weekday()\n",
    "    week_day_cos = np.cos(week_day*2*np.pi/7)\n",
    "    week_day_sin = np.sin(week_day*2*np.pi/7)\n",
    "    return [day, month_cos, month_sin, hour_cos, hour_sin, week_day_cos, week_day_sin]"
   ]
  },
  {
   "cell_type": "code",
   "execution_count": 50,
   "metadata": {
    "collapsed": true
   },
   "outputs": [],
   "source": [
    "data.to_csv('data_cleaned/full_cleaned_users_data.csv', index = True)\n",
    "targets.to_csv('data_cleaned/targets.csv', index = True)"
   ]
  }
 ],
 "metadata": {
  "kernelspec": {
   "display_name": "Python 2",
   "language": "python",
   "name": "python2"
  },
  "language_info": {
   "codemirror_mode": {
    "name": "ipython",
    "version": 2
   },
   "file_extension": ".py",
   "mimetype": "text/x-python",
   "name": "python",
   "nbconvert_exporter": "python",
   "pygments_lexer": "ipython2",
   "version": "2.7.8"
  }
 },
 "nbformat": 4,
 "nbformat_minor": 2
}
