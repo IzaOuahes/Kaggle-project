{
 "cells": [
  {
   "cell_type": "markdown",
   "metadata": {},
   "source": [
    "# Running different algorithms"
   ]
  },
  {
   "cell_type": "markdown",
   "metadata": {},
   "source": [
    "### Importing libraries"
   ]
  },
  {
   "cell_type": "code",
   "execution_count": 34,
   "metadata": {
    "collapsed": true
   },
   "outputs": [],
   "source": [
    "import pandas as pd \n",
    "import numpy as np\n",
    "import matplotlib.pyplot as plt\n",
    "%matplotlib inline\n",
    "from os import listdir"
   ]
  },
  {
   "cell_type": "markdown",
   "metadata": {},
   "source": [
    "### Defining path to data"
   ]
  },
  {
   "cell_type": "code",
   "execution_count": 35,
   "metadata": {
    "collapsed": true
   },
   "outputs": [],
   "source": [
    "path = 'C:/Users/izaou/Documents/ML_Project-master/clean_data/'"
   ]
  },
  {
   "cell_type": "code",
   "execution_count": 36,
   "metadata": {},
   "outputs": [
    {
     "name": "stdout",
     "output_type": "stream",
     "text": [
      "['complete_gradboost_GENDER.csv', 'complete_logreg_GENDER.csv', 'complete_randforest_GENDER.csv', 'Parameters', 'targets.csv', 'targets_flat.csv', 'test.csv', 'train.csv', 'train_age_only_filled.csv']\n"
     ]
    }
   ],
   "source": [
    "print(listdir(path))"
   ]
  },
  {
   "cell_type": "markdown",
   "metadata": {},
   "source": [
    "### Loading train data"
   ]
  },
  {
   "cell_type": "code",
   "execution_count": 37,
   "metadata": {
    "collapsed": true
   },
   "outputs": [],
   "source": [
    "train = pd.read_csv(path + 'train.csv', index_col='user_id')\n",
    "targets = pd.read_csv(path + 'targets_flat.csv', dtype={\"user_id\":object, \"country_destination\":object}, index_col=['user_id'])\n",
    "targets_train = targets[targets.country_destination.notnull()].values.reshape(-1,)"
   ]
  },
  {
   "cell_type": "code",
   "execution_count": 38,
   "metadata": {
    "collapsed": true
   },
   "outputs": [],
   "source": [
    "\n",
    "to_drop= ['language__no','signup_method__google','first_affiliate_tracked__local ops','affiliate_provider__naver','affiliate_provider__baidu','affiliate_provider__yandex','language__id','language__hu','affiliate_provider__wayn','language__da','language__tr','language__th','language__fi','date_account_created_hour_sin','language__is','language__is','date_account_created_hour_cos','language__ca','language__cs','affiliate_provider__daum','language__hr','signup_method__weibo']\n",
    "\n",
    "df1_train = train.drop(to_drop, axis=1)\n"
   ]
  },
  {
   "cell_type": "code",
   "execution_count": 39,
   "metadata": {
    "collapsed": true
   },
   "outputs": [],
   "source": [
    "df_train = df1_train.astype(np.float)"
   ]
  },
  {
   "cell_type": "markdown",
   "metadata": {},
   "source": [
    "## Predicting classes by taking out age and gender"
   ]
  },
  {
   "cell_type": "markdown",
   "metadata": {},
   "source": [
    "### Defining the train dataset"
   ]
  },
  {
   "cell_type": "markdown",
   "metadata": {},
   "source": [
    "### Importing libraries"
   ]
  },
  {
   "cell_type": "code",
   "execution_count": 40,
   "metadata": {},
   "outputs": [],
   "source": [
    "from sklearn.linear_model import LogisticRegression\n",
    "from sklearn.ensemble import RandomForestClassifier\n",
    "from sklearn.ensemble import GradientBoostingClassifier\n",
    "from sklearn.tree import DecisionTreeClassifier\n",
    "import timeit\n",
    "from sklearn.cross_validation import train_test_split #for splitting data into train and test\n",
    "\n"
   ]
  },
  {
   "cell_type": "code",
   "execution_count": 41,
   "metadata": {
    "collapsed": true
   },
   "outputs": [],
   "source": [
    "# XGBoost Tune learning_rate\n",
    "from xgboost import XGBClassifier\n",
    "from sklearn.model_selection import GridSearchCV\n",
    "from sklearn.model_selection import StratifiedKFold\n",
    "from sklearn.preprocessing import LabelEncoder\n",
    "import matplotlib\n",
    "from matplotlib import pyplot\n",
    "\n",
    "# encode string class values as integers\n",
    "label_encoded_y = LabelEncoder().fit_transform(targets_train)\n",
    "\n",
    "X_train, X_test, y_train, y_test=train_test_split(df_train,targets_train,test_size=0.2)"
   ]
  },
  {
   "cell_type": "markdown",
   "metadata": {},
   "source": [
    "### Defining classifiers"
   ]
  },
  {
   "cell_type": "code",
   "execution_count": 42,
   "metadata": {},
   "outputs": [
    {
     "data": {
      "text/plain": [
       "array([ 7,  7, 10, ...,  7,  7,  7], dtype=int64)"
      ]
     },
     "execution_count": 42,
     "metadata": {},
     "output_type": "execute_result"
    }
   ],
   "source": [
    "# \n",
    "from sklearn.preprocessing import LabelEncoder\n",
    "\n",
    "\n",
    "\n",
    "# encode string class values as integers\n",
    "y = LabelEncoder().fit_transform(targets_train)\n",
    "y"
   ]
  },
  {
   "cell_type": "code",
   "execution_count": 43,
   "metadata": {
    "collapsed": true
   },
   "outputs": [],
   "source": [
    "from sklearn.metrics import  accuracy_score\n",
    "from sklearn.metrics import  f1_score\n",
    "from sklearn.metrics import recall_score\n",
    "\n",
    "def test_classifier(X_train, y_train, X_test, y_test, classifier):\n",
    "    print(\"\")\n",
    "    print(\"=====================\")\n",
    "    start = timeit.default_timer()\n",
    "    classifier_name = str(type(classifier).__name__)\n",
    "    print(\"Testing \" + classifier_name)\n",
    "    model = classifier.fit(X_train, y_train)\n",
    "    predictions = model.predict(X_test)\n",
    "    stop = timeit.default_timer()\n",
    "    accuracy = accuracy_score(y_test, predictions)\n",
    "    f1 = f1_score(y_test, predictions, average='weighted') \n",
    "    recall = recall_score(y_test, predictions, average='weighted')\n",
    "    \n",
    "    print(\"========== Results======.====\")\n",
    "    print(\"Accuracy \" + str(accuracy))\n",
    "    print(\"F1 score \" + str(f1))\n",
    "    print(\"recall score \" + str(recall))\n",
    "    print( 'running time:' ,stop - start, 's')\n",
    "    print(\"============================\")\n",
    "\n",
    "    return predictions"
   ]
  },
  {
   "cell_type": "code",
   "execution_count": 55,
   "metadata": {},
   "outputs": [
    {
     "name": "stderr",
     "output_type": "stream",
     "text": [
      "C:\\Users\\izaou\\Anaconda3\\lib\\site-packages\\ipykernel_launcher.py:2: RuntimeWarning: invalid value encountered in greater\n",
      "  \n",
      "C:\\Users\\izaou\\Anaconda3\\lib\\site-packages\\ipykernel_launcher.py:2: RuntimeWarning: invalid value encountered in less\n",
      "  \n"
     ]
    },
    {
     "data": {
      "text/html": [
       "<div>\n",
       "<style>\n",
       "    .dataframe thead tr:only-child th {\n",
       "        text-align: right;\n",
       "    }\n",
       "\n",
       "    .dataframe thead th {\n",
       "        text-align: left;\n",
       "    }\n",
       "\n",
       "    .dataframe tbody tr th {\n",
       "        vertical-align: top;\n",
       "    }\n",
       "</style>\n",
       "<table border=\"1\" class=\"dataframe\">\n",
       "  <thead>\n",
       "    <tr style=\"text-align: right;\">\n",
       "      <th></th>\n",
       "      <th>age</th>\n",
       "      <th>signup_flow</th>\n",
       "      <th>timestamp_first_active_day_cos</th>\n",
       "      <th>timestamp_first_active_day_sin</th>\n",
       "      <th>timestamp_first_active_month_cos</th>\n",
       "      <th>timestamp_first_active_month_sin</th>\n",
       "      <th>timestamp_first_active_hour_cos</th>\n",
       "      <th>timestamp_first_active_hour_sin</th>\n",
       "      <th>timestamp_first_active_wkday_cos</th>\n",
       "      <th>timestamp_first_active_wkday_sin</th>\n",
       "      <th>...</th>\n",
       "      <th>language__pt</th>\n",
       "      <th>language__ru</th>\n",
       "      <th>language__sv</th>\n",
       "      <th>language__zh</th>\n",
       "      <th>signup_app__Android</th>\n",
       "      <th>signup_app__Moweb</th>\n",
       "      <th>signup_app__Web</th>\n",
       "      <th>signup_app__iOS</th>\n",
       "      <th>signup_method__basic</th>\n",
       "      <th>signup_method__facebook</th>\n",
       "    </tr>\n",
       "    <tr>\n",
       "      <th>user_id</th>\n",
       "      <th></th>\n",
       "      <th></th>\n",
       "      <th></th>\n",
       "      <th></th>\n",
       "      <th></th>\n",
       "      <th></th>\n",
       "      <th></th>\n",
       "      <th></th>\n",
       "      <th></th>\n",
       "      <th></th>\n",
       "      <th></th>\n",
       "      <th></th>\n",
       "      <th></th>\n",
       "      <th></th>\n",
       "      <th></th>\n",
       "      <th></th>\n",
       "      <th></th>\n",
       "      <th></th>\n",
       "      <th></th>\n",
       "      <th></th>\n",
       "      <th></th>\n",
       "    </tr>\n",
       "  </thead>\n",
       "  <tbody>\n",
       "  </tbody>\n",
       "</table>\n",
       "<p>0 rows × 85 columns</p>\n",
       "</div>"
      ],
      "text/plain": [
       "Empty DataFrame\n",
       "Columns: [age, signup_flow, timestamp_first_active_day_cos, timestamp_first_active_day_sin, timestamp_first_active_month_cos, timestamp_first_active_month_sin, timestamp_first_active_hour_cos, timestamp_first_active_hour_sin, timestamp_first_active_wkday_cos, timestamp_first_active_wkday_sin, date_account_created_day_cos, date_account_created_day_sin, date_account_created_month_cos, date_account_created_month_sin, date_account_created_wkday_cos, date_account_created_wkday_sin, affiliate_channel__api, affiliate_channel__content, affiliate_channel__direct, affiliate_channel__other, affiliate_channel__remarketing, affiliate_channel__sem-brand, affiliate_channel__sem-non-brand, affiliate_channel__seo, affiliate_provider__bing, affiliate_provider__craigslist, affiliate_provider__direct, affiliate_provider__email-marketing, affiliate_provider__facebook, affiliate_provider__facebook-open-graph, affiliate_provider__google, affiliate_provider__gsp, affiliate_provider__meetup, affiliate_provider__other, affiliate_provider__padmapper, affiliate_provider__vast, affiliate_provider__yahoo, first_affiliate_tracked__linked, first_affiliate_tracked__marketing, first_affiliate_tracked__omg, first_affiliate_tracked__product, first_affiliate_tracked__tracked-other, first_affiliate_tracked__untracked, first_browser__AOL Explorer, first_browser__Android Browser, first_browser__Chrome, first_browser__Chrome Mobile, first_browser__Firefox, first_browser__IE, first_browser__Mobile Safari, first_browser__Opera, first_browser__Safari, first_browser__other, first_device_type__Android Phone, first_device_type__Android Tablet, first_device_type__Desktop (Other), first_device_type__Mac Desktop, first_device_type__Other/Unknown, first_device_type__SmartPhone (Other), first_device_type__Windows Desktop, first_device_type__iPad, first_device_type__iPhone, gender__FEMALE, gender__MALE, gender__OTHER, language__de, language__el, language__en, language__es, language__fr, language__it, language__ja, language__ko, language__nl, language__pl, language__pt, language__ru, language__sv, language__zh, signup_app__Android, signup_app__Moweb, signup_app__Web, signup_app__iOS, signup_method__basic, signup_method__facebook]\n",
       "Index: []\n",
       "\n",
       "[0 rows x 85 columns]"
      ]
     },
     "execution_count": 55,
     "metadata": {},
     "output_type": "execute_result"
    }
   ],
   "source": [
    "av = df_train.age.values\n",
    "df_train.loc[(av>1906) & (av<2000)].head(10)"
   ]
  },
  {
   "cell_type": "code",
   "execution_count": 54,
   "metadata": {},
   "outputs": [
    {
     "name": "stderr",
     "output_type": "stream",
     "text": [
      "C:\\Users\\izaou\\Anaconda3\\lib\\site-packages\\ipykernel_launcher.py:3: RuntimeWarning: invalid value encountered in less\n",
      "  This is separate from the ipykernel package so we can avoid doing imports until\n",
      "C:\\Users\\izaou\\Anaconda3\\lib\\site-packages\\ipykernel_launcher.py:3: RuntimeWarning: invalid value encountered in greater\n",
      "  This is separate from the ipykernel package so we can avoid doing imports until\n"
     ]
    }
   ],
   "source": [
    "av = df_train.age.values\n",
    "\n",
    "df_train['age'] = np.where(np.logical_or(av<2000, av>1905), av-2015, av)"
   ]
  },
  {
   "cell_type": "code",
   "execution_count": 56,
   "metadata": {},
   "outputs": [
    {
     "name": "stderr",
     "output_type": "stream",
     "text": [
      "C:\\Users\\izaou\\Anaconda3\\lib\\site-packages\\ipykernel_launcher.py:1: RuntimeWarning: invalid value encountered in less\n",
      "  \"\"\"Entry point for launching an IPython kernel.\n",
      "C:\\Users\\izaou\\Anaconda3\\lib\\site-packages\\ipykernel_launcher.py:1: RuntimeWarning: invalid value encountered in greater\n",
      "  \"\"\"Entry point for launching an IPython kernel.\n"
     ]
    }
   ],
   "source": [
    "df_train['age'] = np.where(np.logical_or(av<14, av>100), np.nan, av)"
   ]
  },
  {
   "cell_type": "code",
   "execution_count": null,
   "metadata": {},
   "outputs": [
    {
     "name": "stdout",
     "output_type": "stream",
     "text": [
      "\n",
      "=====================\n",
      "Testing XGBClassifier\n"
     ]
    }
   ],
   "source": [
    "XGB=XGBClassifier(n_estimators=250, learning_rate=0.2, objective='multi:softmax', max_depth=8)\n",
    "pred_xgb=test_classifier(X_train, y_train, X_test, y_test, XGB)"
   ]
  },
  {
   "cell_type": "code",
   "execution_count": null,
   "metadata": {
    "collapsed": true
   },
   "outputs": [],
   "source": [
    "lr=LogisticRegression()\n",
    "pred_log=test_classifier(X_train, y_train, X_test, y_test, lr)"
   ]
  },
  {
   "cell_type": "code",
   "execution_count": null,
   "metadata": {
    "collapsed": true
   },
   "outputs": [],
   "source": [
    "tree=DecisionTreeClassifier()\n",
    "pred_tree=test_classifier(X_train, y_train, X_test, y_test, tree)"
   ]
  },
  {
   "cell_type": "code",
   "execution_count": null,
   "metadata": {
    "collapsed": true
   },
   "outputs": [],
   "source": [
    "def plot_confusion_matrix(cm, classes,\n",
    "                          normalize=False,\n",
    "                          title='Confusion matrix',\n",
    "                          cmap=plt.cm.Blues):\n",
    "    \"\"\"\n",
    "    This function prints and plots the confusion matrix.\n",
    "    Normalization can be applied by setting `normalize=True`.\n",
    "    \"\"\"\n",
    "    if normalize:\n",
    "        cm = cm.astype('float') / cm.sum(axis=1)[:, np.newaxis]\n",
    "        print(\"Normalized confusion matrix\")\n",
    "    else:\n",
    "        print('Confusion matrix, without normalization')\n",
    "\n",
    "    print(cm)\n",
    "\n",
    "    plt.imshow(cm, interpolation='nearest', cmap=cmap)\n",
    "    plt.title(title)\n",
    "    plt.colorbar()\n",
    "    tick_marks = np.arange(len(classes))\n",
    "    plt.xticks(tick_marks, classes, rotation=45)\n",
    "    plt.yticks(tick_marks, classes)\n",
    "\n",
    "    fmt = '.2f' if normalize else 'd'\n",
    "    thresh = cm.max() / 2.\n",
    "    for i, j in itertools.product(range(cm.shape[0]), range(cm.shape[1])):\n",
    "        plt.text(j, i, format(cm[i, j], fmt),\n",
    "                 horizontalalignment=\"center\",\n",
    "                 color=\"white\" if cm[i, j] > thresh else \"black\")\n",
    "\n",
    "    plt.tight_layout()\n",
    "    plt.ylabel('True label')\n",
    "    plt.xlabel('Predicted label')"
   ]
  },
  {
   "cell_type": "code",
   "execution_count": null,
   "metadata": {
    "collapsed": true
   },
   "outputs": [],
   "source": [
    "from sklearn.metrics import confusion_matrix\n",
    "import itertools\n",
    "class_names=['AU', 'CA', 'DE', 'ES', 'FR', 'GB', 'IT', 'NDF', 'NL', 'PT', 'US','other']\n",
    "cnf_matrix=confusion_matrix(y_test,pred_xgb)\n",
    "plt.figure(figsize=(11,11))\n",
    "plot_confusion_matrix(cnf_matrix, classes=class_names,\n",
    "                      title='Confusion matrix xgboost')"
   ]
  },
  {
   "cell_type": "code",
   "execution_count": null,
   "metadata": {
    "collapsed": true
   },
   "outputs": [],
   "source": [
    "from sklearn.metrics import confusion_matrix\n",
    "import itertools\n",
    "class_names=['AU', 'CA', 'DE', 'ES', 'FR', 'GB', 'IT', 'NDF', 'NL', 'PT', 'US','other']\n",
    "cnf_matrix=confusion_matrix(y_test,pred_log)\n",
    "plt.figure(figsize=(11,11))\n",
    "plot_confusion_matrix(cnf_matrix, classes=class_names,\n",
    "                      title='Confusion matrix LOGREG')"
   ]
  },
  {
   "cell_type": "code",
   "execution_count": null,
   "metadata": {
    "collapsed": true
   },
   "outputs": [],
   "source": [
    "from sklearn.metrics import confusion_matrix\n",
    "import itertools\n",
    "class_names=['AU', 'CA', 'DE', 'ES', 'FR', 'GB', 'IT', 'NDF', 'NL', 'PT', 'US','other']\n",
    "cnf_matrix=confusion_matrix(y_test,pred_tree)\n",
    "plt.figure()\n",
    "plot_confusion_matrix(cnf_matrix, classes=class_names,\n",
    "                      title='Confusion matrix Decision Tree')"
   ]
  }
 ],
 "metadata": {
  "kernelspec": {
   "display_name": "Python 2",
   "language": "python",
   "name": "python2"
  },
  "language_info": {
   "codemirror_mode": {
    "name": "ipython",
    "version": 2
   },
   "file_extension": ".py",
   "mimetype": "text/x-python",
   "name": "python",
   "nbconvert_exporter": "python",
   "pygments_lexer": "ipython2",
   "version": "2.7.8"
  }
 },
 "nbformat": 4,
 "nbformat_minor": 2
}
